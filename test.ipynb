{
 "cells": [
  {
   "cell_type": "markdown",
   "id": "c659fa3e-f829-4ed2-8dc5-9907afb729dd",
   "metadata": {},
   "source": [
    "# __Python_practice__"
   ]
  },
  {
   "cell_type": "code",
   "execution_count": 2,
   "id": "842346da-61f0-46f5-9448-ae80c136b3b1",
   "metadata": {},
   "outputs": [],
   "source": [
    "nano = 1\n",
    "new = 2"
   ]
  },
  {
   "cell_type": "code",
   "execution_count": 4,
   "id": "e29fd88d-0d8b-4fd4-8339-60347f13565b",
   "metadata": {},
   "outputs": [
    {
     "data": {
      "text/plain": [
       "3"
      ]
     },
     "execution_count": 4,
     "metadata": {},
     "output_type": "execute_result"
    }
   ],
   "source": [
    "nano + new"
   ]
  },
  {
   "cell_type": "code",
   "execution_count": 6,
   "id": "bb456426-213e-47bc-b102-4d60cd7b7a10",
   "metadata": {},
   "outputs": [
    {
     "name": "stdout",
     "output_type": "stream",
     "text": [
      "it 1 and 2\n"
     ]
    }
   ],
   "source": [
    "print(\"it {nano} and {new}\".format(nano=nano,new=new))"
   ]
  },
  {
   "cell_type": "code",
   "execution_count": 8,
   "id": "a60543d5-f00c-4fef-86e8-9c9130ec0d5a",
   "metadata": {},
   "outputs": [
    {
     "name": "stdout",
     "output_type": "stream",
     "text": [
      "nano\n"
     ]
    }
   ],
   "source": [
    "print(\"nano\")"
   ]
  },
  {
   "cell_type": "code",
   "execution_count": 10,
   "id": "9a4b0b81-3849-4410-a181-462a38d2a306",
   "metadata": {},
   "outputs": [
    {
     "name": "stdout",
     "output_type": "stream",
     "text": [
      "0\n",
      "1\n",
      "2\n",
      "3\n",
      "4\n",
      "5\n",
      "6\n",
      "7\n",
      "8\n",
      "9\n"
     ]
    }
   ],
   "source": [
    "for i in range(10):\n",
    "    print(i)"
   ]
  },
  {
   "cell_type": "code",
   "execution_count": 16,
   "id": "55aecfe8-3141-453d-98d3-41ed3bdef6a6",
   "metadata": {},
   "outputs": [
    {
     "name": "stdout",
     "output_type": "stream",
     "text": [
      "hello\n"
     ]
    }
   ],
   "source": [
    "print(\"hello\")"
   ]
  },
  {
   "cell_type": "code",
   "execution_count": 18,
   "id": "432429b5-72e1-4b95-94bc-0b2c9221044b",
   "metadata": {},
   "outputs": [],
   "source": [
    "a=[1,2,3]"
   ]
  },
  {
   "cell_type": "code",
   "execution_count": 20,
   "id": "9e612d6d-a4c5-482f-9c04-93de38c0d95c",
   "metadata": {},
   "outputs": [
    {
     "name": "stdout",
     "output_type": "stream",
     "text": [
      "[1, 2, 3]\n"
     ]
    }
   ],
   "source": [
    "print(a)"
   ]
  },
  {
   "cell_type": "code",
   "execution_count": 24,
   "id": "77a76087-9829-4a1b-b17e-0ac388d70d01",
   "metadata": {},
   "outputs": [],
   "source": [
    "b=[1,2]"
   ]
  },
  {
   "cell_type": "code",
   "execution_count": 26,
   "id": "57c64d15-cd23-44cd-b586-7c4436a25759",
   "metadata": {},
   "outputs": [
    {
     "data": {
      "text/plain": [
       "[1, 2, 3, 1, 2]"
      ]
     },
     "execution_count": 26,
     "metadata": {},
     "output_type": "execute_result"
    }
   ],
   "source": [
    "a+b"
   ]
  },
  {
   "cell_type": "code",
   "execution_count": 30,
   "id": "d425fb86-6388-4f45-a59f-b20e80efea14",
   "metadata": {},
   "outputs": [],
   "source": [
    "a.append(1)"
   ]
  },
  {
   "cell_type": "code",
   "execution_count": 32,
   "id": "678987b2-b53b-4afb-a8d2-b38df42a4a8a",
   "metadata": {},
   "outputs": [
    {
     "name": "stdout",
     "output_type": "stream",
     "text": [
      "[1, 2, 3, 1]\n"
     ]
    }
   ],
   "source": [
    "print(a)"
   ]
  },
  {
   "cell_type": "code",
   "execution_count": 34,
   "id": "db9e5d51-1aae-4a65-b75a-454a448c10b4",
   "metadata": {},
   "outputs": [],
   "source": [
    "a.append(b)"
   ]
  },
  {
   "cell_type": "code",
   "execution_count": 36,
   "id": "b2bf713a-8d19-4487-a520-486b8b2dff47",
   "metadata": {},
   "outputs": [
    {
     "data": {
      "text/plain": [
       "[1, 2, 3, 1, [1, 2]]"
      ]
     },
     "execution_count": 36,
     "metadata": {},
     "output_type": "execute_result"
    }
   ],
   "source": [
    "a"
   ]
  },
  {
   "cell_type": "code",
   "execution_count": 38,
   "id": "11b0c786-449c-4457-86ac-953e2209e3ce",
   "metadata": {},
   "outputs": [
    {
     "data": {
      "text/plain": [
       "[1, 2]"
      ]
     },
     "execution_count": 38,
     "metadata": {},
     "output_type": "execute_result"
    }
   ],
   "source": [
    "a[4]"
   ]
  },
  {
   "cell_type": "code",
   "execution_count": 40,
   "id": "80c1fb8a-c120-48a8-b2c9-95b337a59f19",
   "metadata": {},
   "outputs": [
    {
     "data": {
      "text/plain": [
       "1"
      ]
     },
     "execution_count": 40,
     "metadata": {},
     "output_type": "execute_result"
    }
   ],
   "source": [
    "a[4][0]"
   ]
  },
  {
   "cell_type": "code",
   "execution_count": 42,
   "id": "4b9b3345-e3f2-4df0-8b27-139cf61ab54e",
   "metadata": {},
   "outputs": [
    {
     "data": {
      "text/plain": [
       "[1, 2]"
      ]
     },
     "execution_count": 42,
     "metadata": {},
     "output_type": "execute_result"
    }
   ],
   "source": [
    "a[-1]"
   ]
  },
  {
   "cell_type": "code",
   "execution_count": 44,
   "id": "c3eaed3c-fb6d-4d2e-9151-a3b41c9bdfdb",
   "metadata": {},
   "outputs": [],
   "source": [
    "mynum=[0,1,2,3,4,5,6,7,8,9,10]"
   ]
  },
  {
   "cell_type": "code",
   "execution_count": 46,
   "id": "508030af-909b-415c-bfd1-78cf12dcfaba",
   "metadata": {},
   "outputs": [
    {
     "data": {
      "text/plain": [
       "[5, 6, 7, 8, 9, 10]"
      ]
     },
     "execution_count": 46,
     "metadata": {},
     "output_type": "execute_result"
    }
   ],
   "source": [
    "mynum[5:]"
   ]
  },
  {
   "cell_type": "code",
   "execution_count": 48,
   "id": "563483f0-d0ca-4f9f-849a-d361ecd89c12",
   "metadata": {},
   "outputs": [
    {
     "data": {
      "text/plain": [
       "[0, 1, 2, 3, 4, 5, 6, 7, 8, 9]"
      ]
     },
     "execution_count": 48,
     "metadata": {},
     "output_type": "execute_result"
    }
   ],
   "source": [
    "mynum[:10]"
   ]
  },
  {
   "cell_type": "code",
   "execution_count": 50,
   "id": "645a917d-2e52-4cb3-a7ac-30413a24f1fc",
   "metadata": {},
   "outputs": [
    {
     "data": {
      "text/plain": [
       "[0, 1, 2]"
      ]
     },
     "execution_count": 50,
     "metadata": {},
     "output_type": "execute_result"
    }
   ],
   "source": [
    "mynum[0:3]"
   ]
  },
  {
   "cell_type": "code",
   "execution_count": 52,
   "id": "78a6faa4-e4bb-4faf-b893-8c02bbb3c9c7",
   "metadata": {},
   "outputs": [],
   "source": [
    "key={'myid':65011103,'name':\"sibthinon\"}"
   ]
  },
  {
   "cell_type": "code",
   "execution_count": 54,
   "id": "741b8382-06c5-4f19-8ede-383e0f116c25",
   "metadata": {},
   "outputs": [
    {
     "data": {
      "text/plain": [
       "{'myid': 65011103, 'name': 'sibthinon'}"
      ]
     },
     "execution_count": 54,
     "metadata": {},
     "output_type": "execute_result"
    }
   ],
   "source": [
    "key"
   ]
  },
  {
   "cell_type": "code",
   "execution_count": 56,
   "id": "d2220632-9cf5-457e-996f-4f59e01db791",
   "metadata": {},
   "outputs": [
    {
     "data": {
      "text/plain": [
       "65011103"
      ]
     },
     "execution_count": 56,
     "metadata": {},
     "output_type": "execute_result"
    }
   ],
   "source": [
    "key['myid']"
   ]
  },
  {
   "cell_type": "code",
   "execution_count": 66,
   "id": "0be79f6b-099d-492a-be3a-57713dca65c6",
   "metadata": {},
   "outputs": [],
   "source": [
    "t=True"
   ]
  },
  {
   "cell_type": "code",
   "execution_count": 68,
   "id": "5c626a37-dcfd-4b78-b9c7-3be68c033479",
   "metadata": {},
   "outputs": [],
   "source": [
    "f=False"
   ]
  },
  {
   "cell_type": "code",
   "execution_count": 70,
   "id": "b372763f-566d-42da-aea4-44ea5589a02e",
   "metadata": {},
   "outputs": [],
   "source": [
    "tu=(1,2,3)"
   ]
  },
  {
   "cell_type": "code",
   "execution_count": 72,
   "id": "207619de-5b87-42ab-866d-ef0e4ae9673e",
   "metadata": {},
   "outputs": [
    {
     "data": {
      "text/plain": [
       "(1, 2, 3)"
      ]
     },
     "execution_count": 72,
     "metadata": {},
     "output_type": "execute_result"
    }
   ],
   "source": [
    "tu"
   ]
  },
  {
   "cell_type": "code",
   "execution_count": 76,
   "id": "c5af25f3-c5a7-4a30-952e-8df3045f5173",
   "metadata": {},
   "outputs": [
    {
     "data": {
      "text/plain": [
       "1"
      ]
     },
     "execution_count": 76,
     "metadata": {},
     "output_type": "execute_result"
    }
   ],
   "source": [
    "tu[0]"
   ]
  },
  {
   "cell_type": "code",
   "execution_count": 82,
   "id": "4fa7d1b3-7eef-4a8b-9389-8a7ba7b1816c",
   "metadata": {},
   "outputs": [
    {
     "name": "stdout",
     "output_type": "stream",
     "text": [
      "100\n",
      "1\n",
      "2\n",
      "3\n",
      "4\n",
      "5\n",
      "6\n",
      "7\n",
      "8\n",
      "9\n",
      "10\n"
     ]
    }
   ],
   "source": [
    "for i in range(11):\n",
    "    print(mynum[i])"
   ]
  },
  {
   "cell_type": "code",
   "execution_count": 80,
   "id": "e6bddf66-7564-4895-a0a0-6fb329f72ed0",
   "metadata": {},
   "outputs": [],
   "source": [
    "mynum[0] = 100"
   ]
  },
  {
   "cell_type": "code",
   "execution_count": 9,
   "id": "bccebc76-1687-4b99-af8b-1e4f3588fcca",
   "metadata": {},
   "outputs": [],
   "source": [
    "test = [1,2,3,1,2,3,1,2,3]"
   ]
  },
  {
   "cell_type": "code",
   "execution_count": 100,
   "id": "dc94046c-a202-495d-91d6-565a3d56187e",
   "metadata": {},
   "outputs": [],
   "source": [
    "test_set=set(test)"
   ]
  },
  {
   "cell_type": "code",
   "execution_count": 106,
   "id": "ef178851-bf5c-4637-83a9-69b280f1e352",
   "metadata": {},
   "outputs": [
    {
     "name": "stdout",
     "output_type": "stream",
     "text": [
      "test:[1, 2, 3, 1, 2, 3, 1, 2, 3] test_set:{1, 2, 3}\n"
     ]
    }
   ],
   "source": [
    "print(\"test:{test} test_set:{test_set}\".format(test=test,test_set=test_set))"
   ]
  },
  {
   "cell_type": "code",
   "execution_count": 112,
   "id": "f2a5e95c-30e2-4434-818a-d0af395f3229",
   "metadata": {},
   "outputs": [],
   "source": [
    "test=list(test_set)"
   ]
  },
  {
   "cell_type": "code",
   "execution_count": 114,
   "id": "e17f6319-d281-43b8-af45-0b55e01076e0",
   "metadata": {},
   "outputs": [
    {
     "data": {
      "text/plain": [
       "[1, 2, 3]"
      ]
     },
     "execution_count": 114,
     "metadata": {},
     "output_type": "execute_result"
    }
   ],
   "source": [
    "test"
   ]
  },
  {
   "cell_type": "code",
   "execution_count": 116,
   "id": "1adf5761-b64a-498d-882e-f5522191dce9",
   "metadata": {},
   "outputs": [],
   "source": [
    "import math"
   ]
  },
  {
   "cell_type": "code",
   "execution_count": 118,
   "id": "5fe867e5-e59a-4397-ace6-a300f37d97ac",
   "metadata": {},
   "outputs": [
    {
     "data": {
      "text/plain": [
       "1.4142135623730951"
      ]
     },
     "execution_count": 118,
     "metadata": {},
     "output_type": "execute_result"
    }
   ],
   "source": [
    "math.sqrt(2)"
   ]
  },
  {
   "cell_type": "code",
   "execution_count": 120,
   "id": "691c17a3-a67a-4ebe-afdf-a143d1755ca4",
   "metadata": {},
   "outputs": [
    {
     "name": "stdout",
     "output_type": "stream",
     "text": [
      "Help on built-in module math:\n",
      "\n",
      "NAME\n",
      "    math\n",
      "\n",
      "DESCRIPTION\n",
      "    This module provides access to the mathematical functions\n",
      "    defined by the C standard.\n",
      "\n",
      "FUNCTIONS\n",
      "    acos(x, /)\n",
      "        Return the arc cosine (measured in radians) of x.\n",
      "\n",
      "        The result is between 0 and pi.\n",
      "\n",
      "    acosh(x, /)\n",
      "        Return the inverse hyperbolic cosine of x.\n",
      "\n",
      "    asin(x, /)\n",
      "        Return the arc sine (measured in radians) of x.\n",
      "\n",
      "        The result is between -pi/2 and pi/2.\n",
      "\n",
      "    asinh(x, /)\n",
      "        Return the inverse hyperbolic sine of x.\n",
      "\n",
      "    atan(x, /)\n",
      "        Return the arc tangent (measured in radians) of x.\n",
      "\n",
      "        The result is between -pi/2 and pi/2.\n",
      "\n",
      "    atan2(y, x, /)\n",
      "        Return the arc tangent (measured in radians) of y/x.\n",
      "\n",
      "        Unlike atan(y/x), the signs of both x and y are considered.\n",
      "\n",
      "    atanh(x, /)\n",
      "        Return the inverse hyperbolic tangent of x.\n",
      "\n",
      "    cbrt(x, /)\n",
      "        Return the cube root of x.\n",
      "\n",
      "    ceil(x, /)\n",
      "        Return the ceiling of x as an Integral.\n",
      "\n",
      "        This is the smallest integer >= x.\n",
      "\n",
      "    comb(n, k, /)\n",
      "        Number of ways to choose k items from n items without repetition and without order.\n",
      "\n",
      "        Evaluates to n! / (k! * (n - k)!) when k <= n and evaluates\n",
      "        to zero when k > n.\n",
      "\n",
      "        Also called the binomial coefficient because it is equivalent\n",
      "        to the coefficient of k-th term in polynomial expansion of the\n",
      "        expression (1 + x)**n.\n",
      "\n",
      "        Raises TypeError if either of the arguments are not integers.\n",
      "        Raises ValueError if either of the arguments are negative.\n",
      "\n",
      "    copysign(x, y, /)\n",
      "        Return a float with the magnitude (absolute value) of x but the sign of y.\n",
      "\n",
      "        On platforms that support signed zeros, copysign(1.0, -0.0)\n",
      "        returns -1.0.\n",
      "\n",
      "    cos(x, /)\n",
      "        Return the cosine of x (measured in radians).\n",
      "\n",
      "    cosh(x, /)\n",
      "        Return the hyperbolic cosine of x.\n",
      "\n",
      "    degrees(x, /)\n",
      "        Convert angle x from radians to degrees.\n",
      "\n",
      "    dist(p, q, /)\n",
      "        Return the Euclidean distance between two points p and q.\n",
      "\n",
      "        The points should be specified as sequences (or iterables) of\n",
      "        coordinates.  Both inputs must have the same dimension.\n",
      "\n",
      "        Roughly equivalent to:\n",
      "            sqrt(sum((px - qx) ** 2.0 for px, qx in zip(p, q)))\n",
      "\n",
      "    erf(x, /)\n",
      "        Error function at x.\n",
      "\n",
      "    erfc(x, /)\n",
      "        Complementary error function at x.\n",
      "\n",
      "    exp(x, /)\n",
      "        Return e raised to the power of x.\n",
      "\n",
      "    exp2(x, /)\n",
      "        Return 2 raised to the power of x.\n",
      "\n",
      "    expm1(x, /)\n",
      "        Return exp(x)-1.\n",
      "\n",
      "        This function avoids the loss of precision involved in the direct evaluation of exp(x)-1 for small x.\n",
      "\n",
      "    fabs(x, /)\n",
      "        Return the absolute value of the float x.\n",
      "\n",
      "    factorial(n, /)\n",
      "        Find n!.\n",
      "\n",
      "        Raise a ValueError if x is negative or non-integral.\n",
      "\n",
      "    floor(x, /)\n",
      "        Return the floor of x as an Integral.\n",
      "\n",
      "        This is the largest integer <= x.\n",
      "\n",
      "    fmod(x, y, /)\n",
      "        Return fmod(x, y), according to platform C.\n",
      "\n",
      "        x % y may differ.\n",
      "\n",
      "    frexp(x, /)\n",
      "        Return the mantissa and exponent of x, as pair (m, e).\n",
      "\n",
      "        m is a float and e is an int, such that x = m * 2.**e.\n",
      "        If x is 0, m and e are both 0.  Else 0.5 <= abs(m) < 1.0.\n",
      "\n",
      "    fsum(seq, /)\n",
      "        Return an accurate floating-point sum of values in the iterable seq.\n",
      "\n",
      "        Assumes IEEE-754 floating-point arithmetic.\n",
      "\n",
      "    gamma(x, /)\n",
      "        Gamma function at x.\n",
      "\n",
      "    gcd(*integers)\n",
      "        Greatest Common Divisor.\n",
      "\n",
      "    hypot(...)\n",
      "        hypot(*coordinates) -> value\n",
      "\n",
      "        Multidimensional Euclidean distance from the origin to a point.\n",
      "\n",
      "        Roughly equivalent to:\n",
      "            sqrt(sum(x**2 for x in coordinates))\n",
      "\n",
      "        For a two dimensional point (x, y), gives the hypotenuse\n",
      "        using the Pythagorean theorem:  sqrt(x*x + y*y).\n",
      "\n",
      "        For example, the hypotenuse of a 3/4/5 right triangle is:\n",
      "\n",
      "            >>> hypot(3.0, 4.0)\n",
      "            5.0\n",
      "\n",
      "    isclose(a, b, *, rel_tol=1e-09, abs_tol=0.0)\n",
      "        Determine whether two floating-point numbers are close in value.\n",
      "\n",
      "          rel_tol\n",
      "            maximum difference for being considered \"close\", relative to the\n",
      "            magnitude of the input values\n",
      "          abs_tol\n",
      "            maximum difference for being considered \"close\", regardless of the\n",
      "            magnitude of the input values\n",
      "\n",
      "        Return True if a is close in value to b, and False otherwise.\n",
      "\n",
      "        For the values to be considered close, the difference between them\n",
      "        must be smaller than at least one of the tolerances.\n",
      "\n",
      "        -inf, inf and NaN behave similarly to the IEEE 754 Standard.  That\n",
      "        is, NaN is not close to anything, even itself.  inf and -inf are\n",
      "        only close to themselves.\n",
      "\n",
      "    isfinite(x, /)\n",
      "        Return True if x is neither an infinity nor a NaN, and False otherwise.\n",
      "\n",
      "    isinf(x, /)\n",
      "        Return True if x is a positive or negative infinity, and False otherwise.\n",
      "\n",
      "    isnan(x, /)\n",
      "        Return True if x is a NaN (not a number), and False otherwise.\n",
      "\n",
      "    isqrt(n, /)\n",
      "        Return the integer part of the square root of the input.\n",
      "\n",
      "    lcm(*integers)\n",
      "        Least Common Multiple.\n",
      "\n",
      "    ldexp(x, i, /)\n",
      "        Return x * (2**i).\n",
      "\n",
      "        This is essentially the inverse of frexp().\n",
      "\n",
      "    lgamma(x, /)\n",
      "        Natural logarithm of absolute value of Gamma function at x.\n",
      "\n",
      "    log(...)\n",
      "        log(x, [base=math.e])\n",
      "        Return the logarithm of x to the given base.\n",
      "\n",
      "        If the base is not specified, returns the natural logarithm (base e) of x.\n",
      "\n",
      "    log10(x, /)\n",
      "        Return the base 10 logarithm of x.\n",
      "\n",
      "    log1p(x, /)\n",
      "        Return the natural logarithm of 1+x (base e).\n",
      "\n",
      "        The result is computed in a way which is accurate for x near zero.\n",
      "\n",
      "    log2(x, /)\n",
      "        Return the base 2 logarithm of x.\n",
      "\n",
      "    modf(x, /)\n",
      "        Return the fractional and integer parts of x.\n",
      "\n",
      "        Both results carry the sign of x and are floats.\n",
      "\n",
      "    nextafter(x, y, /, *, steps=None)\n",
      "        Return the floating-point value the given number of steps after x towards y.\n",
      "\n",
      "        If steps is not specified or is None, it defaults to 1.\n",
      "\n",
      "        Raises a TypeError, if x or y is not a double, or if steps is not an integer.\n",
      "        Raises ValueError if steps is negative.\n",
      "\n",
      "    perm(n, k=None, /)\n",
      "        Number of ways to choose k items from n items without repetition and with order.\n",
      "\n",
      "        Evaluates to n! / (n - k)! when k <= n and evaluates\n",
      "        to zero when k > n.\n",
      "\n",
      "        If k is not specified or is None, then k defaults to n\n",
      "        and the function returns n!.\n",
      "\n",
      "        Raises TypeError if either of the arguments are not integers.\n",
      "        Raises ValueError if either of the arguments are negative.\n",
      "\n",
      "    pow(x, y, /)\n",
      "        Return x**y (x to the power of y).\n",
      "\n",
      "    prod(iterable, /, *, start=1)\n",
      "        Calculate the product of all the elements in the input iterable.\n",
      "\n",
      "        The default start value for the product is 1.\n",
      "\n",
      "        When the iterable is empty, return the start value.  This function is\n",
      "        intended specifically for use with numeric values and may reject\n",
      "        non-numeric types.\n",
      "\n",
      "    radians(x, /)\n",
      "        Convert angle x from degrees to radians.\n",
      "\n",
      "    remainder(x, y, /)\n",
      "        Difference between x and the closest integer multiple of y.\n",
      "\n",
      "        Return x - n*y where n*y is the closest integer multiple of y.\n",
      "        In the case where x is exactly halfway between two multiples of\n",
      "        y, the nearest even value of n is used. The result is always exact.\n",
      "\n",
      "    sin(x, /)\n",
      "        Return the sine of x (measured in radians).\n",
      "\n",
      "    sinh(x, /)\n",
      "        Return the hyperbolic sine of x.\n",
      "\n",
      "    sqrt(x, /)\n",
      "        Return the square root of x.\n",
      "\n",
      "    sumprod(p, q, /)\n",
      "        Return the sum of products of values from two iterables p and q.\n",
      "\n",
      "        Roughly equivalent to:\n",
      "\n",
      "            sum(itertools.starmap(operator.mul, zip(p, q, strict=True)))\n",
      "\n",
      "        For float and mixed int/float inputs, the intermediate products\n",
      "        and sums are computed with extended precision.\n",
      "\n",
      "    tan(x, /)\n",
      "        Return the tangent of x (measured in radians).\n",
      "\n",
      "    tanh(x, /)\n",
      "        Return the hyperbolic tangent of x.\n",
      "\n",
      "    trunc(x, /)\n",
      "        Truncates the Real x to the nearest Integral toward 0.\n",
      "\n",
      "        Uses the __trunc__ magic method.\n",
      "\n",
      "    ulp(x, /)\n",
      "        Return the value of the least significant bit of the float x.\n",
      "\n",
      "DATA\n",
      "    e = 2.718281828459045\n",
      "    inf = inf\n",
      "    nan = nan\n",
      "    pi = 3.141592653589793\n",
      "    tau = 6.283185307179586\n",
      "\n",
      "FILE\n",
      "    (built-in)\n",
      "\n",
      "\n"
     ]
    }
   ],
   "source": [
    "help(math)"
   ]
  },
  {
   "cell_type": "code",
   "execution_count": 124,
   "id": "3ad68bc1-455b-497e-a03b-93c6232d2504",
   "metadata": {},
   "outputs": [
    {
     "data": {
      "text/plain": [
       "45"
      ]
     },
     "execution_count": 124,
     "metadata": {},
     "output_type": "execute_result"
    }
   ],
   "source": [
    "math.comb(10,2)"
   ]
  },
  {
   "cell_type": "code",
   "execution_count": 126,
   "id": "078d5bc4-766e-4bcb-a823-6d3710635c7c",
   "metadata": {},
   "outputs": [
    {
     "data": {
      "text/plain": [
       "False"
      ]
     },
     "execution_count": 126,
     "metadata": {},
     "output_type": "execute_result"
    }
   ],
   "source": [
    "1>2"
   ]
  },
  {
   "cell_type": "code",
   "execution_count": 128,
   "id": "23820f81-e91c-4dfc-b821-b5cadbef916f",
   "metadata": {},
   "outputs": [
    {
     "data": {
      "text/plain": [
       "False"
      ]
     },
     "execution_count": 128,
     "metadata": {},
     "output_type": "execute_result"
    }
   ],
   "source": [
    "nano>new"
   ]
  },
  {
   "cell_type": "code",
   "execution_count": 130,
   "id": "52299459-f60e-4d99-a201-9575bc396b90",
   "metadata": {},
   "outputs": [
    {
     "data": {
      "text/plain": [
       "False"
      ]
     },
     "execution_count": 130,
     "metadata": {},
     "output_type": "execute_result"
    }
   ],
   "source": [
    "nano==new"
   ]
  },
  {
   "cell_type": "code",
   "execution_count": 132,
   "id": "61067b20-a59c-4079-829e-9c327f60a2e2",
   "metadata": {},
   "outputs": [
    {
     "data": {
      "text/plain": [
       "True"
      ]
     },
     "execution_count": 132,
     "metadata": {},
     "output_type": "execute_result"
    }
   ],
   "source": [
    "1==1"
   ]
  },
  {
   "cell_type": "code",
   "execution_count": 134,
   "id": "c6776c08-4522-4c97-8359-de7b30300943",
   "metadata": {},
   "outputs": [
    {
     "data": {
      "text/plain": [
       "True"
      ]
     },
     "execution_count": 134,
     "metadata": {},
     "output_type": "execute_result"
    }
   ],
   "source": [
    "1 <= 1"
   ]
  },
  {
   "cell_type": "code",
   "execution_count": 136,
   "id": "622ac983-d606-490a-a5c7-51e569c7b4f3",
   "metadata": {},
   "outputs": [
    {
     "data": {
      "text/plain": [
       "True"
      ]
     },
     "execution_count": 136,
     "metadata": {},
     "output_type": "execute_result"
    }
   ],
   "source": [
    "'string' == 'string'"
   ]
  },
  {
   "cell_type": "code",
   "execution_count": 138,
   "id": "2720ff1f-8e60-4c73-85a5-280c053edea6",
   "metadata": {},
   "outputs": [],
   "source": [
    "a = 'string'\n",
    "b = 'string'"
   ]
  },
  {
   "cell_type": "code",
   "execution_count": 140,
   "id": "7b8ca73a-b487-4060-826a-cab579033e57",
   "metadata": {},
   "outputs": [
    {
     "data": {
      "text/plain": [
       "True"
      ]
     },
     "execution_count": 140,
     "metadata": {},
     "output_type": "execute_result"
    }
   ],
   "source": [
    "a == b"
   ]
  },
  {
   "cell_type": "code",
   "execution_count": 142,
   "id": "24c955cf-b374-411d-86e8-eda83581f8cf",
   "metadata": {},
   "outputs": [
    {
     "data": {
      "text/plain": [
       "False"
      ]
     },
     "execution_count": 142,
     "metadata": {},
     "output_type": "execute_result"
    }
   ],
   "source": [
    "a != b"
   ]
  },
  {
   "cell_type": "code",
   "execution_count": 144,
   "id": "49cd00ab-1c92-417b-b306-fe1eea6e69da",
   "metadata": {},
   "outputs": [
    {
     "data": {
      "text/plain": [
       "'string'"
      ]
     },
     "execution_count": 144,
     "metadata": {},
     "output_type": "execute_result"
    }
   ],
   "source": [
    "a and a"
   ]
  },
  {
   "cell_type": "code",
   "execution_count": 146,
   "id": "80cc299d-8572-4dc4-bc8c-d8d4f136365e",
   "metadata": {},
   "outputs": [
    {
     "data": {
      "text/plain": [
       "'string'"
      ]
     },
     "execution_count": 146,
     "metadata": {},
     "output_type": "execute_result"
    }
   ],
   "source": [
    "a and b"
   ]
  },
  {
   "cell_type": "code",
   "execution_count": 148,
   "id": "48a63d72-f121-4238-a40b-66bdfb26946b",
   "metadata": {},
   "outputs": [
    {
     "data": {
      "text/plain": [
       "1"
      ]
     },
     "execution_count": 148,
     "metadata": {},
     "output_type": "execute_result"
    }
   ],
   "source": [
    "a and nano"
   ]
  },
  {
   "cell_type": "code",
   "execution_count": 150,
   "id": "c82805e1-c345-482b-a5d2-4ab66c9604dc",
   "metadata": {},
   "outputs": [
    {
     "data": {
      "text/plain": [
       "True"
      ]
     },
     "execution_count": 150,
     "metadata": {},
     "output_type": "execute_result"
    }
   ],
   "source": [
    "a==a and b==b"
   ]
  },
  {
   "cell_type": "code",
   "execution_count": 152,
   "id": "35a1ea33-db61-4176-907b-a6f3b5370067",
   "metadata": {},
   "outputs": [
    {
     "data": {
      "text/plain": [
       "False"
      ]
     },
     "execution_count": 152,
     "metadata": {},
     "output_type": "execute_result"
    }
   ],
   "source": [
    "a==nano and b==a"
   ]
  },
  {
   "cell_type": "code",
   "execution_count": 154,
   "id": "227acbf5-b2d0-4165-9d79-f00a8885dc29",
   "metadata": {},
   "outputs": [
    {
     "data": {
      "text/plain": [
       "True"
      ]
     },
     "execution_count": 154,
     "metadata": {},
     "output_type": "execute_result"
    }
   ],
   "source": [
    "a==nano or b==a"
   ]
  },
  {
   "cell_type": "code",
   "execution_count": 156,
   "id": "aee39822-e5d2-4d47-b89d-3faf56c22f5f",
   "metadata": {},
   "outputs": [
    {
     "name": "stdout",
     "output_type": "stream",
     "text": [
      "string\n"
     ]
    }
   ],
   "source": [
    "if 1==1:\n",
    "    print(a)"
   ]
  },
  {
   "cell_type": "code",
   "execution_count": 158,
   "id": "f989bbe1-62a0-4d5e-8918-b5ce4445ff54",
   "metadata": {},
   "outputs": [
    {
     "name": "stdout",
     "output_type": "stream",
     "text": [
      "1\n"
     ]
    }
   ],
   "source": [
    "if 1==2:\n",
    "    print(a)\n",
    "elif 1--1:\n",
    "    print(nano)"
   ]
  },
  {
   "cell_type": "code",
   "execution_count": 3,
   "id": "a639c771-a9a8-49f4-ae95-62785c1b51f5",
   "metadata": {},
   "outputs": [
    {
     "name": "stdout",
     "output_type": "stream",
     "text": [
      "now item is 1\n",
      "now item is 2\n",
      "now item is 3\n",
      "now item is 4\n",
      "now item is 5\n"
     ]
    }
   ],
   "source": [
    "item = 1\n",
    "while item<=5:\n",
    "    print(\"now item is {item}\".format(item=item))\n",
    "    item+=1"
   ]
  },
  {
   "cell_type": "code",
   "execution_count": 5,
   "id": "bbd1c0fd-9f35-454b-8fd6-9d2cf7d23f0d",
   "metadata": {},
   "outputs": [
    {
     "data": {
      "text/plain": [
       "[0, 1, 2, 3, 4, 5, 6, 7, 8, 9, 10]"
      ]
     },
     "execution_count": 5,
     "metadata": {},
     "output_type": "execute_result"
    }
   ],
   "source": [
    "list(range(11))"
   ]
  },
  {
   "cell_type": "code",
   "execution_count": 7,
   "id": "4140cb17-784d-4357-9009-c27dda5f4cf6",
   "metadata": {},
   "outputs": [
    {
     "name": "stdout",
     "output_type": "stream",
     "text": [
      "0\n",
      "1\n",
      "2\n",
      "3\n",
      "4\n"
     ]
    }
   ],
   "source": [
    "for item in range(5):\n",
    "    print(item)"
   ]
  },
  {
   "cell_type": "code",
   "execution_count": 13,
   "id": "ff40a245-3aad-4ecb-9677-d8fbc492950f",
   "metadata": {},
   "outputs": [],
   "source": [
    "test = [1,2,3,4,5,6,7,8]"
   ]
  },
  {
   "cell_type": "code",
   "execution_count": 15,
   "id": "9daf03e3-6bb5-43ea-8f71-c28c0184b505",
   "metadata": {},
   "outputs": [
    {
     "name": "stdout",
     "output_type": "stream",
     "text": [
      "not true\n",
      "not true\n",
      "not true\n",
      "not true\n",
      "not true\n",
      "6 is greatter than 5\n",
      "7 is greatter than 5\n",
      "8 is greatter than 5\n"
     ]
    }
   ],
   "source": [
    "for i in test:\n",
    "    if i>5:\n",
    "        print(\"{i} is greatter than 5\".format(i=i))\n",
    "    else:\n",
    "        print(\"not true\")"
   ]
  },
  {
   "cell_type": "code",
   "execution_count": 17,
   "id": "c7785ab9-c557-45b4-90e9-29e814326cfe",
   "metadata": {},
   "outputs": [],
   "source": [
    "def hello():\n",
    "    print(\"hello\")"
   ]
  },
  {
   "cell_type": "code",
   "execution_count": 19,
   "id": "efd92ddd-1de7-412c-87e6-8aa658ecf065",
   "metadata": {},
   "outputs": [
    {
     "name": "stdout",
     "output_type": "stream",
     "text": [
      "hello\n"
     ]
    }
   ],
   "source": [
    "hello()"
   ]
  },
  {
   "cell_type": "code",
   "execution_count": 23,
   "id": "a7ebb469-3059-41cf-9c97-2378b9a63228",
   "metadata": {},
   "outputs": [
    {
     "name": "stdout",
     "output_type": "stream",
     "text": [
      "hello\n",
      "hello\n",
      "hello\n",
      "hello\n",
      "hello\n",
      "hello\n",
      "hello\n",
      "hello\n",
      "hello\n",
      "hello\n",
      "hello\n"
     ]
    }
   ],
   "source": [
    "for i in range(11):\n",
    "    hello()"
   ]
  },
  {
   "cell_type": "code",
   "execution_count": 27,
   "id": "2aca9928-5947-42c0-9340-8a558ca4f431",
   "metadata": {},
   "outputs": [],
   "source": [
    "def hello_name(name):\n",
    "    print(\"hello {name}\".format(name=name))"
   ]
  },
  {
   "cell_type": "code",
   "execution_count": 29,
   "id": "59b39d64-a71d-4f33-b546-b539b6bcfa2d",
   "metadata": {},
   "outputs": [],
   "source": [
    "name = ['nano','mint','cartoon','top','golf']"
   ]
  },
  {
   "cell_type": "code",
   "execution_count": 33,
   "id": "c889f238-e104-4a30-a146-92a1cb1614aa",
   "metadata": {},
   "outputs": [
    {
     "name": "stdout",
     "output_type": "stream",
     "text": [
      "hello nano\n",
      "hello mint\n",
      "hello cartoon\n",
      "hello top\n",
      "hello golf\n"
     ]
    }
   ],
   "source": [
    "for i in name:\n",
    "    hello_name(i)"
   ]
  },
  {
   "cell_type": "code",
   "execution_count": 35,
   "id": "595d12f7-e526-4d49-b337-ead555406c93",
   "metadata": {},
   "outputs": [],
   "source": [
    "seq = [1,2,3,4,5]"
   ]
  },
  {
   "cell_type": "code",
   "execution_count": 43,
   "id": "33998a95-f4b7-4db8-a451-63a825f7341b",
   "metadata": {},
   "outputs": [],
   "source": [
    "def plus_two(num):\n",
    "    num+=2\n",
    "    return num"
   ]
  },
  {
   "cell_type": "code",
   "execution_count": 47,
   "id": "8c5047a1-3493-427d-b462-299fa8656378",
   "metadata": {},
   "outputs": [
    {
     "data": {
      "text/plain": [
       "[3, 4, 5, 6, 7]"
      ]
     },
     "execution_count": 47,
     "metadata": {},
     "output_type": "execute_result"
    }
   ],
   "source": [
    "list(map(plus_two,seq))"
   ]
  },
  {
   "cell_type": "code",
   "execution_count": 49,
   "id": "9a1d3ab7-189c-485c-b205-710968aafda9",
   "metadata": {},
   "outputs": [
    {
     "data": {
      "text/plain": [
       "[3, 4, 5, 6, 7]"
      ]
     },
     "execution_count": 49,
     "metadata": {},
     "output_type": "execute_result"
    }
   ],
   "source": [
    "list(map(lambda num:num+2,seq))"
   ]
  },
  {
   "cell_type": "code",
   "execution_count": 51,
   "id": "2c4e2a69-e829-4318-bb07-2157218109c7",
   "metadata": {},
   "outputs": [],
   "source": [
    "seq = list(map(lambda num:num+2,seq))"
   ]
  },
  {
   "cell_type": "code",
   "execution_count": 53,
   "id": "f46ce77c-b64f-4a18-93ce-3a4f29f529a9",
   "metadata": {},
   "outputs": [
    {
     "data": {
      "text/plain": [
       "[3, 4, 5, 6, 7]"
      ]
     },
     "execution_count": 53,
     "metadata": {},
     "output_type": "execute_result"
    }
   ],
   "source": [
    "seq"
   ]
  },
  {
   "cell_type": "code",
   "execution_count": 55,
   "id": "3082f9e8-cd26-4ae7-8a91-f96f8edd6112",
   "metadata": {},
   "outputs": [
    {
     "data": {
      "text/plain": [
       "[3, 5, 7]"
      ]
     },
     "execution_count": 55,
     "metadata": {},
     "output_type": "execute_result"
    }
   ],
   "source": [
    "list(filter(lambda num:num%2==1,seq))"
   ]
  },
  {
   "cell_type": "code",
   "execution_count": 57,
   "id": "45cb84c4-1135-4984-9d23-b2aa8720886b",
   "metadata": {},
   "outputs": [],
   "source": [
    "st = \"Hello my name is Sibthinon\""
   ]
  },
  {
   "cell_type": "code",
   "execution_count": 59,
   "id": "780f69a9-a63c-4be0-9268-cd6b95e8b343",
   "metadata": {},
   "outputs": [
    {
     "data": {
      "text/plain": [
       "'Hello my name is Sibthinon'"
      ]
     },
     "execution_count": 59,
     "metadata": {},
     "output_type": "execute_result"
    }
   ],
   "source": [
    "st"
   ]
  },
  {
   "cell_type": "code",
   "execution_count": 61,
   "id": "e024ceaf-b90f-4ea7-b085-3610976bbf1a",
   "metadata": {},
   "outputs": [
    {
     "data": {
      "text/plain": [
       "'hello my name is sibthinon'"
      ]
     },
     "execution_count": 61,
     "metadata": {},
     "output_type": "execute_result"
    }
   ],
   "source": [
    "st.lower()"
   ]
  },
  {
   "cell_type": "code",
   "execution_count": 63,
   "id": "f42d586b-beb9-44cb-b6fd-8c3c324c68c1",
   "metadata": {},
   "outputs": [
    {
     "data": {
      "text/plain": [
       "'Hello my name is Sibthinon'"
      ]
     },
     "execution_count": 63,
     "metadata": {},
     "output_type": "execute_result"
    }
   ],
   "source": [
    "st"
   ]
  },
  {
   "cell_type": "code",
   "execution_count": 65,
   "id": "c53d7366-d59b-4d62-b1f7-a5ec8c73caf3",
   "metadata": {},
   "outputs": [],
   "source": [
    "st = st.lower()"
   ]
  },
  {
   "cell_type": "code",
   "execution_count": 67,
   "id": "206e51c2-e8f5-4fe0-a34c-a01b967a1b3f",
   "metadata": {},
   "outputs": [
    {
     "data": {
      "text/plain": [
       "'hello my name is sibthinon'"
      ]
     },
     "execution_count": 67,
     "metadata": {},
     "output_type": "execute_result"
    }
   ],
   "source": [
    "st"
   ]
  },
  {
   "cell_type": "code",
   "execution_count": 69,
   "id": "f303d599-e3fa-4856-8e3c-e6c9453124dd",
   "metadata": {},
   "outputs": [],
   "source": [
    "st = st.upper()"
   ]
  },
  {
   "cell_type": "code",
   "execution_count": 71,
   "id": "5fda0d23-c0f7-4ee1-8bf5-a1dda7237fcf",
   "metadata": {},
   "outputs": [
    {
     "data": {
      "text/plain": [
       "'HELLO MY NAME IS SIBTHINON'"
      ]
     },
     "execution_count": 71,
     "metadata": {},
     "output_type": "execute_result"
    }
   ],
   "source": [
    "st"
   ]
  },
  {
   "cell_type": "code",
   "execution_count": 73,
   "id": "1eb4c7b7-2e36-4b18-aabc-ef4af2314134",
   "metadata": {},
   "outputs": [],
   "source": [
    "tweet = \"I AM IRONMAN\""
   ]
  },
  {
   "cell_type": "code",
   "execution_count": 75,
   "id": "e5ccb607-9ba6-4fd6-80d0-666b2ae01f15",
   "metadata": {},
   "outputs": [
    {
     "data": {
      "text/plain": [
       "['I', 'AM', 'IRONMAN']"
      ]
     },
     "execution_count": 75,
     "metadata": {},
     "output_type": "execute_result"
    }
   ],
   "source": [
    "tweet.split()"
   ]
  },
  {
   "cell_type": "code",
   "execution_count": 77,
   "id": "86ebda75-bf8e-4b72-a208-92a4be5f72fe",
   "metadata": {},
   "outputs": [],
   "source": [
    "newlist = [1,2,3,4,5,6,7,8,9,10]"
   ]
  },
  {
   "cell_type": "code",
   "execution_count": 79,
   "id": "70c8781f-a0ca-4069-8df4-9ce1bce29770",
   "metadata": {},
   "outputs": [
    {
     "data": {
      "text/plain": [
       "[1, 2, 3, 4, 5, 6, 7, 8, 9, 10]"
      ]
     },
     "execution_count": 79,
     "metadata": {},
     "output_type": "execute_result"
    }
   ],
   "source": [
    "newlist"
   ]
  },
  {
   "cell_type": "code",
   "execution_count": 81,
   "id": "799bca04-7436-4926-897f-924f325d48a1",
   "metadata": {},
   "outputs": [
    {
     "data": {
      "text/plain": [
       "10"
      ]
     },
     "execution_count": 81,
     "metadata": {},
     "output_type": "execute_result"
    }
   ],
   "source": [
    "newlist.pop()"
   ]
  },
  {
   "cell_type": "code",
   "execution_count": 83,
   "id": "3347910f-a340-4291-8b02-183c0eff1626",
   "metadata": {},
   "outputs": [
    {
     "data": {
      "text/plain": [
       "[1, 2, 3, 4, 5, 6, 7, 8, 9]"
      ]
     },
     "execution_count": 83,
     "metadata": {},
     "output_type": "execute_result"
    }
   ],
   "source": [
    "newlist"
   ]
  },
  {
   "cell_type": "code",
   "execution_count": 85,
   "id": "8a69bcc1-1347-4209-b66b-a068981ef739",
   "metadata": {},
   "outputs": [
    {
     "data": {
      "text/plain": [
       "6"
      ]
     },
     "execution_count": 85,
     "metadata": {},
     "output_type": "execute_result"
    }
   ],
   "source": [
    "newlist.pop(5)"
   ]
  },
  {
   "cell_type": "code",
   "execution_count": 87,
   "id": "e116aab3-d5cf-4d43-a1c0-554e7c066dc8",
   "metadata": {},
   "outputs": [
    {
     "data": {
      "text/plain": [
       "[1, 2, 3, 4, 5, 7, 8, 9]"
      ]
     },
     "execution_count": 87,
     "metadata": {},
     "output_type": "execute_result"
    }
   ],
   "source": [
    "newlist"
   ]
  },
  {
   "cell_type": "code",
   "execution_count": 89,
   "id": "1e03bcaf-3026-45a3-99c3-cfaab0a426bc",
   "metadata": {},
   "outputs": [
    {
     "data": {
      "text/plain": [
       "True"
      ]
     },
     "execution_count": 89,
     "metadata": {},
     "output_type": "execute_result"
    }
   ],
   "source": [
    "2 in newlist"
   ]
  },
  {
   "cell_type": "code",
   "execution_count": 91,
   "id": "780616b1-1315-4f4a-af70-12dfd0ea8a79",
   "metadata": {},
   "outputs": [
    {
     "data": {
      "text/plain": [
       "False"
      ]
     },
     "execution_count": 91,
     "metadata": {},
     "output_type": "execute_result"
    }
   ],
   "source": [
    "10 in newlist"
   ]
  },
  {
   "cell_type": "code",
   "execution_count": null,
   "id": "47a9736c-9eb1-4e0a-af96-af654fa4e29f",
   "metadata": {},
   "outputs": [],
   "source": []
  }
 ],
 "metadata": {
  "kernelspec": {
   "display_name": "Python [conda env:base] *",
   "language": "python",
   "name": "conda-base-py"
  },
  "language_info": {
   "codemirror_mode": {
    "name": "ipython",
    "version": 3
   },
   "file_extension": ".py",
   "mimetype": "text/x-python",
   "name": "python",
   "nbconvert_exporter": "python",
   "pygments_lexer": "ipython3",
   "version": "3.12.7"
  }
 },
 "nbformat": 4,
 "nbformat_minor": 5
}
