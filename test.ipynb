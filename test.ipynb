{
 "cells": [
  {
   "cell_type": "code",
   "execution_count": 2,
   "id": "842346da-61f0-46f5-9448-ae80c136b3b1",
   "metadata": {},
   "outputs": [],
   "source": [
    "nano = 1\n",
    "new = 2"
   ]
  },
  {
   "cell_type": "code",
   "execution_count": 4,
   "id": "e29fd88d-0d8b-4fd4-8339-60347f13565b",
   "metadata": {},
   "outputs": [
    {
     "data": {
      "text/plain": [
       "3"
      ]
     },
     "execution_count": 4,
     "metadata": {},
     "output_type": "execute_result"
    }
   ],
   "source": [
    "nano + new"
   ]
  },
  {
   "cell_type": "code",
   "execution_count": 6,
   "id": "bb456426-213e-47bc-b102-4d60cd7b7a10",
   "metadata": {},
   "outputs": [
    {
     "name": "stdout",
     "output_type": "stream",
     "text": [
      "it 1 and 2\n"
     ]
    }
   ],
   "source": [
    "print(\"it {nano} and {new}\".format(nano=nano,new=new))"
   ]
  },
  {
   "cell_type": "code",
   "execution_count": null,
   "id": "a60543d5-f00c-4fef-86e8-9c9130ec0d5a",
   "metadata": {},
   "outputs": [],
   "source": []
  }
 ],
 "metadata": {
  "kernelspec": {
   "display_name": "Python [conda env:base] *",
   "language": "python",
   "name": "conda-base-py"
  },
  "language_info": {
   "codemirror_mode": {
    "name": "ipython",
    "version": 3
   },
   "file_extension": ".py",
   "mimetype": "text/x-python",
   "name": "python",
   "nbconvert_exporter": "python",
   "pygments_lexer": "ipython3",
   "version": "3.12.7"
  }
 },
 "nbformat": 4,
 "nbformat_minor": 5
}
