{
 "cells": [
  {
   "cell_type": "code",
   "execution_count": 2,
   "id": "842346da-61f0-46f5-9448-ae80c136b3b1",
   "metadata": {},
   "outputs": [],
   "source": [
    "nano = 1\n",
    "new = 2"
   ]
  },
  {
   "cell_type": "code",
   "execution_count": 4,
   "id": "e29fd88d-0d8b-4fd4-8339-60347f13565b",
   "metadata": {},
   "outputs": [
    {
     "data": {
      "text/plain": [
       "3"
      ]
     },
     "execution_count": 4,
     "metadata": {},
     "output_type": "execute_result"
    }
   ],
   "source": [
    "nano + new"
   ]
  },
  {
   "cell_type": "code",
   "execution_count": 6,
   "id": "bb456426-213e-47bc-b102-4d60cd7b7a10",
   "metadata": {},
   "outputs": [
    {
     "name": "stdout",
     "output_type": "stream",
     "text": [
      "it 1 and 2\n"
     ]
    }
   ],
   "source": [
    "print(\"it {nano} and {new}\".format(nano=nano,new=new))"
   ]
  },
  {
   "cell_type": "code",
   "execution_count": 8,
   "id": "a60543d5-f00c-4fef-86e8-9c9130ec0d5a",
   "metadata": {},
   "outputs": [
    {
     "name": "stdout",
     "output_type": "stream",
     "text": [
      "nano\n"
     ]
    }
   ],
   "source": [
    "print(\"nano\")"
   ]
  },
  {
   "cell_type": "code",
   "execution_count": 10,
   "id": "9a4b0b81-3849-4410-a181-462a38d2a306",
   "metadata": {},
   "outputs": [
    {
     "name": "stdout",
     "output_type": "stream",
     "text": [
      "0\n",
      "1\n",
      "2\n",
      "3\n",
      "4\n",
      "5\n",
      "6\n",
      "7\n",
      "8\n",
      "9\n"
     ]
    }
   ],
   "source": [
    "for i in range(10):\n",
    "    print(i)"
   ]
  },
  {
   "cell_type": "code",
   "execution_count": 16,
   "id": "55aecfe8-3141-453d-98d3-41ed3bdef6a6",
   "metadata": {},
   "outputs": [
    {
     "name": "stdout",
     "output_type": "stream",
     "text": [
      "hello\n"
     ]
    }
   ],
   "source": [
    "print(\"hello\")"
   ]
  },
  {
   "cell_type": "code",
   "execution_count": 18,
   "id": "432429b5-72e1-4b95-94bc-0b2c9221044b",
   "metadata": {},
   "outputs": [],
   "source": [
    "a=[1,2,3]"
   ]
  },
  {
   "cell_type": "code",
   "execution_count": 20,
   "id": "9e612d6d-a4c5-482f-9c04-93de38c0d95c",
   "metadata": {},
   "outputs": [
    {
     "name": "stdout",
     "output_type": "stream",
     "text": [
      "[1, 2, 3]\n"
     ]
    }
   ],
   "source": [
    "print(a)"
   ]
  },
  {
   "cell_type": "code",
   "execution_count": 24,
   "id": "77a76087-9829-4a1b-b17e-0ac388d70d01",
   "metadata": {},
   "outputs": [],
   "source": [
    "b=[1,2]"
   ]
  },
  {
   "cell_type": "code",
   "execution_count": 26,
   "id": "57c64d15-cd23-44cd-b586-7c4436a25759",
   "metadata": {},
   "outputs": [
    {
     "data": {
      "text/plain": [
       "[1, 2, 3, 1, 2]"
      ]
     },
     "execution_count": 26,
     "metadata": {},
     "output_type": "execute_result"
    }
   ],
   "source": [
    "a+b"
   ]
  },
  {
   "cell_type": "code",
   "execution_count": 30,
   "id": "d425fb86-6388-4f45-a59f-b20e80efea14",
   "metadata": {},
   "outputs": [],
   "source": [
    "a.append(1)"
   ]
  },
  {
   "cell_type": "code",
   "execution_count": 32,
   "id": "678987b2-b53b-4afb-a8d2-b38df42a4a8a",
   "metadata": {},
   "outputs": [
    {
     "name": "stdout",
     "output_type": "stream",
     "text": [
      "[1, 2, 3, 1]\n"
     ]
    }
   ],
   "source": [
    "print(a)"
   ]
  },
  {
   "cell_type": "code",
   "execution_count": 34,
   "id": "db9e5d51-1aae-4a65-b75a-454a448c10b4",
   "metadata": {},
   "outputs": [],
   "source": [
    "a.append(b)"
   ]
  },
  {
   "cell_type": "code",
   "execution_count": 36,
   "id": "b2bf713a-8d19-4487-a520-486b8b2dff47",
   "metadata": {},
   "outputs": [
    {
     "data": {
      "text/plain": [
       "[1, 2, 3, 1, [1, 2]]"
      ]
     },
     "execution_count": 36,
     "metadata": {},
     "output_type": "execute_result"
    }
   ],
   "source": [
    "a"
   ]
  },
  {
   "cell_type": "code",
   "execution_count": 38,
   "id": "11b0c786-449c-4457-86ac-953e2209e3ce",
   "metadata": {},
   "outputs": [
    {
     "data": {
      "text/plain": [
       "[1, 2]"
      ]
     },
     "execution_count": 38,
     "metadata": {},
     "output_type": "execute_result"
    }
   ],
   "source": [
    "a[4]"
   ]
  },
  {
   "cell_type": "code",
   "execution_count": 40,
   "id": "80c1fb8a-c120-48a8-b2c9-95b337a59f19",
   "metadata": {},
   "outputs": [
    {
     "data": {
      "text/plain": [
       "1"
      ]
     },
     "execution_count": 40,
     "metadata": {},
     "output_type": "execute_result"
    }
   ],
   "source": [
    "a[4][0]"
   ]
  },
  {
   "cell_type": "code",
   "execution_count": 42,
   "id": "4b9b3345-e3f2-4df0-8b27-139cf61ab54e",
   "metadata": {},
   "outputs": [
    {
     "data": {
      "text/plain": [
       "[1, 2]"
      ]
     },
     "execution_count": 42,
     "metadata": {},
     "output_type": "execute_result"
    }
   ],
   "source": [
    "a[-1]"
   ]
  },
  {
   "cell_type": "code",
   "execution_count": 44,
   "id": "c3eaed3c-fb6d-4d2e-9151-a3b41c9bdfdb",
   "metadata": {},
   "outputs": [],
   "source": [
    "mynum=[0,1,2,3,4,5,6,7,8,9,10]"
   ]
  },
  {
   "cell_type": "code",
   "execution_count": 46,
   "id": "508030af-909b-415c-bfd1-78cf12dcfaba",
   "metadata": {},
   "outputs": [
    {
     "data": {
      "text/plain": [
       "[5, 6, 7, 8, 9, 10]"
      ]
     },
     "execution_count": 46,
     "metadata": {},
     "output_type": "execute_result"
    }
   ],
   "source": [
    "mynum[5:]"
   ]
  },
  {
   "cell_type": "code",
   "execution_count": 48,
   "id": "563483f0-d0ca-4f9f-849a-d361ecd89c12",
   "metadata": {},
   "outputs": [
    {
     "data": {
      "text/plain": [
       "[0, 1, 2, 3, 4, 5, 6, 7, 8, 9]"
      ]
     },
     "execution_count": 48,
     "metadata": {},
     "output_type": "execute_result"
    }
   ],
   "source": [
    "mynum[:10]"
   ]
  },
  {
   "cell_type": "code",
   "execution_count": 50,
   "id": "645a917d-2e52-4cb3-a7ac-30413a24f1fc",
   "metadata": {},
   "outputs": [
    {
     "data": {
      "text/plain": [
       "[0, 1, 2]"
      ]
     },
     "execution_count": 50,
     "metadata": {},
     "output_type": "execute_result"
    }
   ],
   "source": [
    "mynum[0:3]"
   ]
  },
  {
   "cell_type": "code",
   "execution_count": null,
   "id": "78a6faa4-e4bb-4faf-b893-8c02bbb3c9c7",
   "metadata": {},
   "outputs": [],
   "source": []
  }
 ],
 "metadata": {
  "kernelspec": {
   "display_name": "Python [conda env:base] *",
   "language": "python",
   "name": "conda-base-py"
  },
  "language_info": {
   "codemirror_mode": {
    "name": "ipython",
    "version": 3
   },
   "file_extension": ".py",
   "mimetype": "text/x-python",
   "name": "python",
   "nbconvert_exporter": "python",
   "pygments_lexer": "ipython3",
   "version": "3.12.7"
  }
 },
 "nbformat": 4,
 "nbformat_minor": 5
}
