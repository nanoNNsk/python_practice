{
 "cells": [
  {
   "cell_type": "markdown",
   "id": "8436cab5-7750-4366-a782-4cbfe1c5dcd5",
   "metadata": {},
   "source": [
    "# object:variables + method"
   ]
  },
  {
   "cell_type": "code",
   "execution_count": 81,
   "id": "5fe288e2-549c-48f0-a76d-942106c35c4c",
   "metadata": {},
   "outputs": [],
   "source": [
    "from datetime import date"
   ]
  },
  {
   "cell_type": "code",
   "execution_count": 111,
   "id": "cd9dcb88-e0c2-4cfb-ac74-ee38f9b573ab",
   "metadata": {},
   "outputs": [],
   "source": [
    "class account:\n",
    "    def __init__(self,numID):\n",
    "        self.numID = numID\n",
    "        self.account_type()\n",
    "        self.interest_rate()\n",
    "        self.interest_accrued()\n",
    "\n",
    "    def account_type(self):\n",
    "        if str(self.numID).startswith(\"1\"):\n",
    "            self.type = \"current\"\n",
    "        elif str(self.numID).startswith(\"2\"):\n",
    "            self.type = \"saving\"\n",
    "\n",
    "    def interest_rate(self):\n",
    "        if self.type == \"current\":\n",
    "            self.interest = 0\n",
    "        elif self.type == \"saving\":\n",
    "            self.interest = 5\n",
    "        return self.interest\n",
    "\n",
    "    def interest_accrued(self):\n",
    "        self.interest_rate()\n",
    "        self.balance = 1000\n",
    "        current_date = date.today()\n",
    "        beginning_date = date(current_date.year,1,1)\n",
    "        self.interest_accrued = self.balance * (abs(current_date-beginning_date).days/365) * self.interest/100\n",
    "        self.interest_accrued+=self.balance"
   ]
  },
  {
   "cell_type": "code",
   "execution_count": 123,
   "id": "5143ca29-7f67-4122-8b99-4d2da7b4e6e2",
   "metadata": {},
   "outputs": [],
   "source": [
    "acc = account(2001)"
   ]
  },
  {
   "cell_type": "code",
   "execution_count": 125,
   "id": "3a5cbc61-253f-4eee-9e02-21c63e9d11c2",
   "metadata": {},
   "outputs": [
    {
     "data": {
      "text/plain": [
       "2001"
      ]
     },
     "execution_count": 125,
     "metadata": {},
     "output_type": "execute_result"
    }
   ],
   "source": [
    "acc.numID"
   ]
  },
  {
   "cell_type": "code",
   "execution_count": 127,
   "id": "d2acf983-11be-4e50-88a0-0e9eed40fe14",
   "metadata": {},
   "outputs": [
    {
     "data": {
      "text/plain": [
       "'saving'"
      ]
     },
     "execution_count": 127,
     "metadata": {},
     "output_type": "execute_result"
    }
   ],
   "source": [
    "acc.type"
   ]
  },
  {
   "cell_type": "code",
   "execution_count": 129,
   "id": "1fc23622-97ff-4f0b-ab3c-d28c046efef0",
   "metadata": {},
   "outputs": [
    {
     "data": {
      "text/plain": [
       "5"
      ]
     },
     "execution_count": 129,
     "metadata": {},
     "output_type": "execute_result"
    }
   ],
   "source": [
    "acc.interest"
   ]
  },
  {
   "cell_type": "code",
   "execution_count": 131,
   "id": "1af2472a-847d-4901-8ade-7f1f2f33304a",
   "metadata": {},
   "outputs": [
    {
     "data": {
      "text/plain": [
       "1002.4657534246576"
      ]
     },
     "execution_count": 131,
     "metadata": {},
     "output_type": "execute_result"
    }
   ],
   "source": [
    "acc.interest_accrued"
   ]
  },
  {
   "cell_type": "code",
   "execution_count": null,
   "id": "b95bf2f0-f5d7-4f1e-ac52-9702c78ac836",
   "metadata": {},
   "outputs": [],
   "source": []
  }
 ],
 "metadata": {
  "kernelspec": {
   "display_name": "Python [conda env:base] *",
   "language": "python",
   "name": "conda-base-py"
  },
  "language_info": {
   "codemirror_mode": {
    "name": "ipython",
    "version": 3
   },
   "file_extension": ".py",
   "mimetype": "text/x-python",
   "name": "python",
   "nbconvert_exporter": "python",
   "pygments_lexer": "ipython3",
   "version": "3.12.7"
  }
 },
 "nbformat": 4,
 "nbformat_minor": 5
}
