{
 "cells": [
  {
   "cell_type": "markdown",
   "id": "8436cab5-7750-4366-a782-4cbfe1c5dcd5",
   "metadata": {},
   "source": [
    "# object:variables + method"
   ]
  },
  {
   "cell_type": "code",
   "execution_count": null,
   "id": "cd9dcb88-e0c2-4cfb-ac74-ee38f9b573ab",
   "metadata": {},
   "outputs": [],
   "source": []
  }
 ],
 "metadata": {
  "kernelspec": {
   "display_name": "Python [conda env:base] *",
   "language": "python",
   "name": "conda-base-py"
  },
  "language_info": {
   "codemirror_mode": {
    "name": "ipython",
    "version": 3
   },
   "file_extension": ".py",
   "mimetype": "text/x-python",
   "name": "python",
   "nbconvert_exporter": "python",
   "pygments_lexer": "ipython3",
   "version": "3.12.7"
  }
 },
 "nbformat": 4,
 "nbformat_minor": 5
}
